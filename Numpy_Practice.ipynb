{
  "nbformat": 4,
  "nbformat_minor": 0,
  "metadata": {
    "colab": {
      "provenance": [],
      "authorship_tag": "ABX9TyO7s4drOhSQFYFxwy7ALWfT",
      "include_colab_link": true
    },
    "kernelspec": {
      "name": "python3",
      "display_name": "Python 3"
    },
    "language_info": {
      "name": "python"
    }
  },
  "cells": [
    {
      "cell_type": "markdown",
      "metadata": {
        "id": "view-in-github",
        "colab_type": "text"
      },
      "source": [
        "<a href=\"https://colab.research.google.com/github/BaberFaisal/Numpy_Practice/blob/main/Numpy_Practice.ipynb\" target=\"_parent\"><img src=\"https://colab.research.google.com/assets/colab-badge.svg\" alt=\"Open In Colab\"/></a>"
      ]
    },
    {
      "cell_type": "code",
      "execution_count": 1,
      "metadata": {
        "id": "-YCJQRbTCEN3"
      },
      "outputs": [],
      "source": [
        "import numpy as np"
      ]
    },
    {
      "cell_type": "code",
      "source": [
        "a = np.array([1, 2, 3])\n",
        "print(a * 2)"
      ],
      "metadata": {
        "colab": {
          "base_uri": "https://localhost:8080/"
        },
        "id": "FmONVl6ZCdFG",
        "outputId": "6b8917da-c8e2-44ff-c3ba-aa21c38348ca"
      },
      "execution_count": 2,
      "outputs": [
        {
          "output_type": "stream",
          "name": "stdout",
          "text": [
            "[2 4 6]\n"
          ]
        }
      ]
    },
    {
      "cell_type": "code",
      "source": [
        "#1D Array\n",
        "a = np.array([1, 2, 3])\n",
        "print(a)"
      ],
      "metadata": {
        "colab": {
          "base_uri": "https://localhost:8080/"
        },
        "id": "ecpczdrwFwGW",
        "outputId": "a5f3491d-2a3c-4593-c24d-e0b756868997"
      },
      "execution_count": 6,
      "outputs": [
        {
          "output_type": "stream",
          "name": "stdout",
          "text": [
            "[1 2 3]\n"
          ]
        }
      ]
    },
    {
      "cell_type": "code",
      "source": [
        "b = np.array([[1, 2], [3, 4]])\n",
        "print(b)"
      ],
      "metadata": {
        "colab": {
          "base_uri": "https://localhost:8080/"
        },
        "id": "HWmp4A4MF1JM",
        "outputId": "6f75f25a-3a9b-4d47-e1ec-c54ea21e28fe"
      },
      "execution_count": 8,
      "outputs": [
        {
          "output_type": "stream",
          "name": "stdout",
          "text": [
            "[[1 2]\n",
            " [3 4]]\n"
          ]
        }
      ]
    },
    {
      "cell_type": "code",
      "source": [
        "a = np.array([[1, 2, 3], [4, 5, 6]])\n",
        "\n",
        "\n",
        "a.itemsize  # bytes per element"
      ],
      "metadata": {
        "colab": {
          "base_uri": "https://localhost:8080/"
        },
        "id": "n_QiUqgjGQ9t",
        "outputId": "c4124339-a727-49e5-ab80-6878f4e4af62"
      },
      "execution_count": 12,
      "outputs": [
        {
          "output_type": "execute_result",
          "data": {
            "text/plain": [
              "8"
            ]
          },
          "metadata": {},
          "execution_count": 12
        }
      ]
    },
    {
      "cell_type": "code",
      "source": [
        "a.shape     # (2, 3)"
      ],
      "metadata": {
        "colab": {
          "base_uri": "https://localhost:8080/"
        },
        "id": "G1Yd0TgNG_Bw",
        "outputId": "04859f0e-5b73-4177-b158-77a13aaf40cd"
      },
      "execution_count": 13,
      "outputs": [
        {
          "output_type": "execute_result",
          "data": {
            "text/plain": [
              "(2, 3)"
            ]
          },
          "metadata": {},
          "execution_count": 13
        }
      ]
    },
    {
      "cell_type": "code",
      "source": [
        "a.ndim      # 2 (2D)"
      ],
      "metadata": {
        "colab": {
          "base_uri": "https://localhost:8080/"
        },
        "id": "yyFQj_BqHSpW",
        "outputId": "9e69ca20-f78c-4c99-d2c8-32000af494b0"
      },
      "execution_count": 14,
      "outputs": [
        {
          "output_type": "execute_result",
          "data": {
            "text/plain": [
              "2"
            ]
          },
          "metadata": {},
          "execution_count": 14
        }
      ]
    },
    {
      "cell_type": "code",
      "source": [
        "a.size      # 6 elements"
      ],
      "metadata": {
        "colab": {
          "base_uri": "https://localhost:8080/"
        },
        "id": "M0FkRvM-HVpM",
        "outputId": "1efa1b44-3e3f-4993-c601-7928f75167a3"
      },
      "execution_count": 15,
      "outputs": [
        {
          "output_type": "execute_result",
          "data": {
            "text/plain": [
              "6"
            ]
          },
          "metadata": {},
          "execution_count": 15
        }
      ]
    },
    {
      "cell_type": "code",
      "source": [
        "a.dtype     # data type (e.g., int64)"
      ],
      "metadata": {
        "colab": {
          "base_uri": "https://localhost:8080/"
        },
        "id": "zYNs2CqaHZc4",
        "outputId": "d770d0aa-596a-4369-d4de-0585ac379842"
      },
      "execution_count": 16,
      "outputs": [
        {
          "output_type": "execute_result",
          "data": {
            "text/plain": [
              "dtype('int64')"
            ]
          },
          "metadata": {},
          "execution_count": 16
        }
      ]
    },
    {
      "cell_type": "code",
      "source": [
        "a.itemsize  # bytes per element"
      ],
      "metadata": {
        "colab": {
          "base_uri": "https://localhost:8080/"
        },
        "id": "7WQNTbEoHdZg",
        "outputId": "99912cdf-63f8-4bcd-f9a1-518e8bcbc739"
      },
      "execution_count": 17,
      "outputs": [
        {
          "output_type": "execute_result",
          "data": {
            "text/plain": [
              "8"
            ]
          },
          "metadata": {},
          "execution_count": 17
        }
      ]
    },
    {
      "cell_type": "code",
      "source": [
        "#INDEXING & SLICING\n",
        "arr = np.array([10, 20, 30, 40])\n",
        "arr[1]       # 20"
      ],
      "metadata": {
        "colab": {
          "base_uri": "https://localhost:8080/"
        },
        "id": "Yku6rcLPHh_B",
        "outputId": "ce73a03c-ff9a-4beb-bd3f-402ce40d9182"
      },
      "execution_count": 18,
      "outputs": [
        {
          "output_type": "execute_result",
          "data": {
            "text/plain": [
              "np.int64(20)"
            ]
          },
          "metadata": {},
          "execution_count": 18
        }
      ]
    },
    {
      "cell_type": "code",
      "source": [
        "arr[1:3]     # [20 30]"
      ],
      "metadata": {
        "colab": {
          "base_uri": "https://localhost:8080/"
        },
        "id": "zV4Ro9v0H-_b",
        "outputId": "5657e97c-7556-4750-e8f5-8295c4209651"
      },
      "execution_count": 19,
      "outputs": [
        {
          "output_type": "execute_result",
          "data": {
            "text/plain": [
              "array([20, 30])"
            ]
          },
          "metadata": {},
          "execution_count": 19
        }
      ]
    },
    {
      "cell_type": "code",
      "source": [
        "a = np.array([[10, 20, 30], [40, 50, 60]])\n",
        "\n",
        "a[0, 1]      # 20\n",
        "a[1, :]      # [40 50 60]\n",
        "a[:, 2]      # [30 60]"
      ],
      "metadata": {
        "colab": {
          "base_uri": "https://localhost:8080/"
        },
        "id": "SlnSKBQtIDc-",
        "outputId": "b5920e3f-192b-4083-a250-ea8bc3d4c57e"
      },
      "execution_count": 20,
      "outputs": [
        {
          "output_type": "execute_result",
          "data": {
            "text/plain": [
              "array([30, 60])"
            ]
          },
          "metadata": {},
          "execution_count": 20
        }
      ]
    },
    {
      "cell_type": "code",
      "source": [
        "a = np.array([1.5, 2.3], dtype='float32')\n",
        "b = a.astype('int')"
      ],
      "metadata": {
        "id": "_sneRMABIfRQ"
      },
      "execution_count": 21,
      "outputs": []
    },
    {
      "cell_type": "code",
      "source": [
        "b"
      ],
      "metadata": {
        "colab": {
          "base_uri": "https://localhost:8080/"
        },
        "id": "-5aT9vrkI1Jm",
        "outputId": "257fd155-c793-4de8-915d-de3065a97300"
      },
      "execution_count": 22,
      "outputs": [
        {
          "output_type": "execute_result",
          "data": {
            "text/plain": [
              "array([1, 2])"
            ]
          },
          "metadata": {},
          "execution_count": 22
        }
      ]
    },
    {
      "cell_type": "code",
      "source": [
        "a = np.array([1, 2, 3])\n",
        "b = a           # No copy (changes affect both)"
      ],
      "metadata": {
        "id": "HfoUbeUoI2Ea"
      },
      "execution_count": 23,
      "outputs": []
    },
    {
      "cell_type": "code",
      "source": [
        "b"
      ],
      "metadata": {
        "colab": {
          "base_uri": "https://localhost:8080/"
        },
        "id": "P1mn4tvyJaMe",
        "outputId": "cc7c6b1c-fcdd-4a69-ad2f-49e5812eb620"
      },
      "execution_count": 24,
      "outputs": [
        {
          "output_type": "execute_result",
          "data": {
            "text/plain": [
              "array([1, 2, 3])"
            ]
          },
          "metadata": {},
          "execution_count": 24
        }
      ]
    },
    {
      "cell_type": "code",
      "source": [
        "c = a.copy()    # Deep copy (safe)"
      ],
      "metadata": {
        "id": "EONrxNsZJblj"
      },
      "execution_count": 25,
      "outputs": []
    },
    {
      "cell_type": "code",
      "source": [
        "c"
      ],
      "metadata": {
        "colab": {
          "base_uri": "https://localhost:8080/"
        },
        "id": "mSwMAKpaJf1M",
        "outputId": "1d4164e5-ed91-4f84-fa39-3c939eb3ead0"
      },
      "execution_count": 26,
      "outputs": [
        {
          "output_type": "execute_result",
          "data": {
            "text/plain": [
              "array([1, 2, 3])"
            ]
          },
          "metadata": {},
          "execution_count": 26
        }
      ]
    },
    {
      "cell_type": "code",
      "source": [
        "#ELEMENT-WISE OPERATIONS\n",
        "a = np.array([1, 2, 3])\n",
        "b = np.array([4, 5, 6])\n",
        "\n",
        "a + b    # [5 7 9]"
      ],
      "metadata": {
        "colab": {
          "base_uri": "https://localhost:8080/"
        },
        "id": "N5NdytclJhIy",
        "outputId": "cdbf7e3e-5180-45fc-d349-07111b41d44d"
      },
      "execution_count": 27,
      "outputs": [
        {
          "output_type": "execute_result",
          "data": {
            "text/plain": [
              "array([5, 7, 9])"
            ]
          },
          "metadata": {},
          "execution_count": 27
        }
      ]
    },
    {
      "cell_type": "code",
      "source": [
        "a * b    # [4 10 18]"
      ],
      "metadata": {
        "colab": {
          "base_uri": "https://localhost:8080/"
        },
        "id": "u5OVq5FLJ86h",
        "outputId": "296136e5-241d-4303-b7d9-6690ccb46e2d"
      },
      "execution_count": 28,
      "outputs": [
        {
          "output_type": "execute_result",
          "data": {
            "text/plain": [
              "array([ 4, 10, 18])"
            ]
          },
          "metadata": {},
          "execution_count": 28
        }
      ]
    },
    {
      "cell_type": "code",
      "source": [
        "a ** 2   # [1 4 9]"
      ],
      "metadata": {
        "colab": {
          "base_uri": "https://localhost:8080/"
        },
        "id": "g9RT7c8YKCna",
        "outputId": "c21463f9-f79f-4cb8-a6ad-a96b363070f9"
      },
      "execution_count": 29,
      "outputs": [
        {
          "output_type": "execute_result",
          "data": {
            "text/plain": [
              "array([1, 4, 9])"
            ]
          },
          "metadata": {},
          "execution_count": 29
        }
      ]
    },
    {
      "cell_type": "code",
      "source": [
        "a = np.array([1, 2, 3])\n",
        "a + 10   # [11 12 13]"
      ],
      "metadata": {
        "colab": {
          "base_uri": "https://localhost:8080/"
        },
        "id": "OKaAetP-KKr5",
        "outputId": "da16cb2c-9ba7-4084-e80e-66a131b45969"
      },
      "execution_count": 31,
      "outputs": [
        {
          "output_type": "execute_result",
          "data": {
            "text/plain": [
              "array([11, 12, 13])"
            ]
          },
          "metadata": {},
          "execution_count": 31
        }
      ]
    },
    {
      "cell_type": "code",
      "source": [
        "a * 2    # [2 4 6]"
      ],
      "metadata": {
        "colab": {
          "base_uri": "https://localhost:8080/"
        },
        "id": "9E839J7UKUwq",
        "outputId": "dc58cb6a-2c44-4299-f9a6-f198956f0547"
      },
      "execution_count": 32,
      "outputs": [
        {
          "output_type": "execute_result",
          "data": {
            "text/plain": [
              "array([2, 4, 6])"
            ]
          },
          "metadata": {},
          "execution_count": 32
        }
      ]
    },
    {
      "cell_type": "code",
      "source": [
        "a = np.array([1, 2, 3])\n",
        "a > 1        # [False  True  True]"
      ],
      "metadata": {
        "colab": {
          "base_uri": "https://localhost:8080/"
        },
        "id": "D-yZUIHsKaFE",
        "outputId": "a1adbc3c-b293-402c-a62a-5c7ddc4970bf"
      },
      "execution_count": 33,
      "outputs": [
        {
          "output_type": "execute_result",
          "data": {
            "text/plain": [
              "array([False,  True,  True])"
            ]
          },
          "metadata": {},
          "execution_count": 33
        }
      ]
    },
    {
      "cell_type": "code",
      "source": [
        "a == 2       # [False  True  False]"
      ],
      "metadata": {
        "colab": {
          "base_uri": "https://localhost:8080/"
        },
        "id": "QqUwrG4wL3a9",
        "outputId": "f1ea03ef-552a-4dad-ec07-020931526c29"
      },
      "execution_count": 34,
      "outputs": [
        {
          "output_type": "execute_result",
          "data": {
            "text/plain": [
              "array([False,  True, False])"
            ]
          },
          "metadata": {},
          "execution_count": 34
        }
      ]
    },
    {
      "cell_type": "code",
      "source": [
        "np.any(a > 1)     # True"
      ],
      "metadata": {
        "colab": {
          "base_uri": "https://localhost:8080/"
        },
        "id": "bS5YVT34L7Y6",
        "outputId": "f3896c82-fedc-4d69-816b-1032dc473383"
      },
      "execution_count": 35,
      "outputs": [
        {
          "output_type": "execute_result",
          "data": {
            "text/plain": [
              "np.True_"
            ]
          },
          "metadata": {},
          "execution_count": 35
        }
      ]
    },
    {
      "cell_type": "code",
      "source": [
        "np.all(a > 0)     # True"
      ],
      "metadata": {
        "colab": {
          "base_uri": "https://localhost:8080/"
        },
        "id": "Svkvm2unMBld",
        "outputId": "034f8c3b-26a0-4368-8dea-beed8c7c3e1e"
      },
      "execution_count": 36,
      "outputs": [
        {
          "output_type": "execute_result",
          "data": {
            "text/plain": [
              "np.True_"
            ]
          },
          "metadata": {},
          "execution_count": 36
        }
      ]
    },
    {
      "cell_type": "code",
      "source": [
        "#Broadcasting allows arrays of different shapes to work together without looping.\n",
        "a = np.array([[1, 2], [3, 4]])\n",
        "print(a + 10)\n",
        "# [[11 12]\n",
        "#  [13 14]]"
      ],
      "metadata": {
        "colab": {
          "base_uri": "https://localhost:8080/"
        },
        "id": "jPs_LoXOMCp7",
        "outputId": "793f57de-f813-40ee-f43f-9f30f7a9598a"
      },
      "execution_count": 37,
      "outputs": [
        {
          "output_type": "stream",
          "name": "stdout",
          "text": [
            "[[11 12]\n",
            " [13 14]]\n"
          ]
        }
      ]
    },
    {
      "cell_type": "code",
      "source": [
        "#Add 1D row to 2D matrix (broadcast along rows)\n",
        "a = np.array([[1, 2, 3], [4, 5, 6]])\n",
        "b = np.array([10, 20, 30])\n",
        "print(a + b)"
      ],
      "metadata": {
        "colab": {
          "base_uri": "https://localhost:8080/"
        },
        "id": "CQQzAwtWMswI",
        "outputId": "38da0a62-7252-4e30-863d-270b30ed4371"
      },
      "execution_count": 38,
      "outputs": [
        {
          "output_type": "stream",
          "name": "stdout",
          "text": [
            "[[11 22 33]\n",
            " [14 25 36]]\n"
          ]
        }
      ]
    },
    {
      "cell_type": "code",
      "source": [
        "#AGGREGATION FUNCTIONS\n",
        "a = np.array([[1, 2], [3, 4]])\n",
        "print(a.sum())       # 10"
      ],
      "metadata": {
        "colab": {
          "base_uri": "https://localhost:8080/"
        },
        "id": "HlChsjXbOJT3",
        "outputId": "aae9adf8-0764-45e5-ef33-54c72d773ee8"
      },
      "execution_count": 40,
      "outputs": [
        {
          "output_type": "stream",
          "name": "stdout",
          "text": [
            "10\n"
          ]
        }
      ]
    },
    {
      "cell_type": "code",
      "source": [
        "print(a.mean())      # 2.5"
      ],
      "metadata": {
        "colab": {
          "base_uri": "https://localhost:8080/"
        },
        "id": "uNfbvQxiO21D",
        "outputId": "4d231d82-1613-4536-d856-a2febd63f2c8"
      },
      "execution_count": 41,
      "outputs": [
        {
          "output_type": "stream",
          "name": "stdout",
          "text": [
            "2.5\n"
          ]
        }
      ]
    },
    {
      "cell_type": "code",
      "source": [
        "print(a.std())       # 1.118"
      ],
      "metadata": {
        "colab": {
          "base_uri": "https://localhost:8080/"
        },
        "id": "RHIc4-ytO2nz",
        "outputId": "b051ce66-fb2d-4a9b-c3fd-4a782e071f83"
      },
      "execution_count": 42,
      "outputs": [
        {
          "output_type": "stream",
          "name": "stdout",
          "text": [
            "1.118033988749895\n"
          ]
        }
      ]
    },
    {
      "cell_type": "code",
      "source": [
        "print(a.max())"
      ],
      "metadata": {
        "colab": {
          "base_uri": "https://localhost:8080/"
        },
        "id": "-7NN0IRjPdqj",
        "outputId": "73a31897-18ac-4bbd-ebfd-e3b0b08b1d47"
      },
      "execution_count": 44,
      "outputs": [
        {
          "output_type": "stream",
          "name": "stdout",
          "text": [
            "4\n"
          ]
        }
      ]
    },
    {
      "cell_type": "code",
      "source": [
        "print(a.min())"
      ],
      "metadata": {
        "colab": {
          "base_uri": "https://localhost:8080/"
        },
        "id": "hm3lt5_EPi02",
        "outputId": "8632bb3d-54ec-4df4-eb2b-dfe9b5889cd7"
      },
      "execution_count": 45,
      "outputs": [
        {
          "output_type": "stream",
          "name": "stdout",
          "text": [
            "1\n"
          ]
        }
      ]
    },
    {
      "cell_type": "code",
      "source": [
        "#Aggregate along an axis:\n",
        "a.sum(axis=0)   # Column-wise sum → [4, 6]"
      ],
      "metadata": {
        "colab": {
          "base_uri": "https://localhost:8080/"
        },
        "id": "d7g60ZxrPr4M",
        "outputId": "653cfcb4-fe13-4250-839b-311771c698f2"
      },
      "execution_count": 46,
      "outputs": [
        {
          "output_type": "execute_result",
          "data": {
            "text/plain": [
              "array([4, 6])"
            ]
          },
          "metadata": {},
          "execution_count": 46
        }
      ]
    },
    {
      "cell_type": "code",
      "source": [
        "a.sum(axis=1)"
      ],
      "metadata": {
        "colab": {
          "base_uri": "https://localhost:8080/"
        },
        "id": "RY7--MIIRgvt",
        "outputId": "528daaa2-7849-438f-ac1e-a7ddbff22a56"
      },
      "execution_count": 47,
      "outputs": [
        {
          "output_type": "execute_result",
          "data": {
            "text/plain": [
              "array([3, 7])"
            ]
          },
          "metadata": {},
          "execution_count": 47
        }
      ]
    },
    {
      "cell_type": "code",
      "source": [
        "#MATH FUNCTIONS\n",
        "np.exp(a)"
      ],
      "metadata": {
        "colab": {
          "base_uri": "https://localhost:8080/"
        },
        "id": "MliPvatXRiMf",
        "outputId": "61e6d8ef-6181-468a-ce25-2d87dae6ae9c"
      },
      "execution_count": 48,
      "outputs": [
        {
          "output_type": "execute_result",
          "data": {
            "text/plain": [
              "array([[ 2.71828183,  7.3890561 ],\n",
              "       [20.08553692, 54.59815003]])"
            ]
          },
          "metadata": {},
          "execution_count": 48
        }
      ]
    },
    {
      "cell_type": "code",
      "source": [
        "np.sqrt(a)\n",
        "np.log(a)\n",
        "np.sin(a)"
      ],
      "metadata": {
        "colab": {
          "base_uri": "https://localhost:8080/"
        },
        "id": "4bBKewyFRvCg",
        "outputId": "298d470d-aad0-49c5-ed6f-75b1b427ec28"
      },
      "execution_count": 49,
      "outputs": [
        {
          "output_type": "execute_result",
          "data": {
            "text/plain": [
              "array([[ 0.84147098,  0.90929743],\n",
              "       [ 0.14112001, -0.7568025 ]])"
            ]
          },
          "metadata": {},
          "execution_count": 49
        }
      ]
    },
    {
      "cell_type": "code",
      "source": [
        "np.abs([-1, -5, 3])"
      ],
      "metadata": {
        "colab": {
          "base_uri": "https://localhost:8080/"
        },
        "id": "AH_boHlqRzp1",
        "outputId": "b9f32e01-1863-4501-8050-4c4af8b14bbd"
      },
      "execution_count": 50,
      "outputs": [
        {
          "output_type": "execute_result",
          "data": {
            "text/plain": [
              "array([1, 5, 3])"
            ]
          },
          "metadata": {},
          "execution_count": 50
        }
      ]
    },
    {
      "cell_type": "code",
      "source": [
        "#RESHAPING ARRAYS\n",
        "a = np.arange(6)  # [0 1 2 3 4 5]\n",
        "a.reshape(2, 3)   # [[0 1 2], [3 4 5]]"
      ],
      "metadata": {
        "colab": {
          "base_uri": "https://localhost:8080/"
        },
        "id": "g54Ivex1R0uu",
        "outputId": "928ff142-a4c2-44a4-8f68-ea07439b91a5"
      },
      "execution_count": 52,
      "outputs": [
        {
          "output_type": "execute_result",
          "data": {
            "text/plain": [
              "array([[0, 1, 2],\n",
              "       [3, 4, 5]])"
            ]
          },
          "metadata": {},
          "execution_count": 52
        }
      ]
    },
    {
      "cell_type": "code",
      "source": [
        "a.reshape(-1)     # Automatically calculates size"
      ],
      "metadata": {
        "colab": {
          "base_uri": "https://localhost:8080/"
        },
        "id": "HOxAD5bQSEFs",
        "outputId": "a6048b0a-33de-451d-f60b-68b9f30bdd25"
      },
      "execution_count": 53,
      "outputs": [
        {
          "output_type": "execute_result",
          "data": {
            "text/plain": [
              "array([0, 1, 2, 3, 4, 5])"
            ]
          },
          "metadata": {},
          "execution_count": 53
        }
      ]
    },
    {
      "cell_type": "code",
      "source": [
        "a.flatten()       # [1D] copy"
      ],
      "metadata": {
        "colab": {
          "base_uri": "https://localhost:8080/"
        },
        "id": "1ktdAd8STCCF",
        "outputId": "7d1c41af-f946-44c6-a428-fbf96bc48df1"
      },
      "execution_count": 54,
      "outputs": [
        {
          "output_type": "execute_result",
          "data": {
            "text/plain": [
              "array([0, 1, 2, 3, 4, 5])"
            ]
          },
          "metadata": {},
          "execution_count": 54
        }
      ]
    },
    {
      "cell_type": "code",
      "source": [
        "a.ravel()         # [1D] view"
      ],
      "metadata": {
        "colab": {
          "base_uri": "https://localhost:8080/"
        },
        "id": "1nqdvUaYTKKt",
        "outputId": "b83dec93-23fa-4b2f-cc18-4b4674a1cd3f"
      },
      "execution_count": 55,
      "outputs": [
        {
          "output_type": "execute_result",
          "data": {
            "text/plain": [
              "array([0, 1, 2, 3, 4, 5])"
            ]
          },
          "metadata": {},
          "execution_count": 55
        }
      ]
    },
    {
      "cell_type": "code",
      "source": [
        "#Transpose\n",
        "a = np.array([[1, 2, 3], [4, 5, 6]])\n",
        "a.T"
      ],
      "metadata": {
        "colab": {
          "base_uri": "https://localhost:8080/"
        },
        "id": "ncCJXpjJTNGh",
        "outputId": "aa4eb130-6aa9-41cd-c81b-3ff757461836"
      },
      "execution_count": 56,
      "outputs": [
        {
          "output_type": "execute_result",
          "data": {
            "text/plain": [
              "array([[1, 4],\n",
              "       [2, 5],\n",
              "       [3, 6]])"
            ]
          },
          "metadata": {},
          "execution_count": 56
        }
      ]
    },
    {
      "cell_type": "code",
      "source": [
        "#STACKING ARRAYS\n",
        "a = np.array([1, 2])\n",
        "b = np.array([3, 4])\n",
        "print(np.vstack((a, b)))\n",
        "# [[1 2]\n",
        "#  [3 4]]"
      ],
      "metadata": {
        "colab": {
          "base_uri": "https://localhost:8080/"
        },
        "id": "ydPTJInwTXkC",
        "outputId": "9fab21d1-fd58-4b9b-87cc-0f7b918799b4"
      },
      "execution_count": 58,
      "outputs": [
        {
          "output_type": "stream",
          "name": "stdout",
          "text": [
            "[[1 2]\n",
            " [3 4]]\n"
          ]
        }
      ]
    },
    {
      "cell_type": "code",
      "source": [
        "#Horizontal Stack (Column-wise)\n",
        "np.hstack((a, b))\n",
        "# [1 2 3 4]"
      ],
      "metadata": {
        "colab": {
          "base_uri": "https://localhost:8080/"
        },
        "id": "rmy6o3Z3TuMl",
        "outputId": "71b76e7e-0d72-41f1-cfed-d5ce92099c94"
      },
      "execution_count": 59,
      "outputs": [
        {
          "output_type": "execute_result",
          "data": {
            "text/plain": [
              "array([1, 2, 3, 4])"
            ]
          },
          "metadata": {},
          "execution_count": 59
        }
      ]
    },
    {
      "cell_type": "code",
      "source": [
        "#Stack along a new axis\n",
        "np.stack((a, b), axis=0)  # shape: (2, 2)"
      ],
      "metadata": {
        "colab": {
          "base_uri": "https://localhost:8080/"
        },
        "id": "9Uv2hQOUT-ln",
        "outputId": "ccfc51b1-3d2d-4ac4-c334-5cbccffa45c3"
      },
      "execution_count": 60,
      "outputs": [
        {
          "output_type": "execute_result",
          "data": {
            "text/plain": [
              "array([[1, 2],\n",
              "       [3, 4]])"
            ]
          },
          "metadata": {},
          "execution_count": 60
        }
      ]
    },
    {
      "cell_type": "code",
      "source": [
        "np.stack((a, b), axis=1)  # shape: (2, 2), but transposed"
      ],
      "metadata": {
        "colab": {
          "base_uri": "https://localhost:8080/"
        },
        "id": "pjI5v80UVSwr",
        "outputId": "b7f52a5f-15a3-4794-d559-4649e674c3d7"
      },
      "execution_count": 61,
      "outputs": [
        {
          "output_type": "execute_result",
          "data": {
            "text/plain": [
              "array([[1, 3],\n",
              "       [2, 4]])"
            ]
          },
          "metadata": {},
          "execution_count": 61
        }
      ]
    },
    {
      "cell_type": "code",
      "source": [
        "#SPLITTING ARRAYS\n",
        "a = np.arange(10)\n",
        "np.split(a, 2)         # 2 equal parts"
      ],
      "metadata": {
        "colab": {
          "base_uri": "https://localhost:8080/"
        },
        "id": "BiTsYVYhVU6C",
        "outputId": "3ea2ef8a-b907-490d-8542-a15f315a2277"
      },
      "execution_count": 62,
      "outputs": [
        {
          "output_type": "execute_result",
          "data": {
            "text/plain": [
              "[array([0, 1, 2, 3, 4]), array([5, 6, 7, 8, 9])]"
            ]
          },
          "metadata": {},
          "execution_count": 62
        }
      ]
    },
    {
      "cell_type": "code",
      "source": [
        "np.array_split(a, 3)   # Unequal parts allowed"
      ],
      "metadata": {
        "colab": {
          "base_uri": "https://localhost:8080/"
        },
        "id": "xV3bQ2VUWBfq",
        "outputId": "f618cc05-e991-479a-85a1-f6f3e36afbda"
      },
      "execution_count": 66,
      "outputs": [
        {
          "output_type": "execute_result",
          "data": {
            "text/plain": [
              "[array([0, 1, 2, 3]), array([4, 5, 6]), array([7, 8, 9])]"
            ]
          },
          "metadata": {},
          "execution_count": 66
        }
      ]
    },
    {
      "cell_type": "code",
      "source": [
        "#2D arrays:\n",
        "np.hsplit(arr, 2)      # Split by columns"
      ],
      "metadata": {
        "colab": {
          "base_uri": "https://localhost:8080/"
        },
        "id": "R8iDVzypWGr7",
        "outputId": "35ceb66f-2430-4afd-e9af-dc351f84b1f6"
      },
      "execution_count": 67,
      "outputs": [
        {
          "output_type": "execute_result",
          "data": {
            "text/plain": [
              "[array([10, 20]), array([30, 40])]"
            ]
          },
          "metadata": {},
          "execution_count": 67
        }
      ]
    },
    {
      "cell_type": "code",
      "source": [
        "arr = np.arange(10).reshape(2,5)  # Reshape the array to have 2 dimensions (2 rows x 5 columns)\n",
        "np.hsplit(arr, 2)      # Split by columns\n",
        "np.vsplit(arr, 2)"
      ],
      "metadata": {
        "id": "n7CjtRg8WxsV"
      },
      "execution_count": 68,
      "outputs": []
    },
    {
      "cell_type": "code",
      "source": [
        "a = np.array([1, 2, 3])\n",
        "a.reshape(1, 3)        # Row vector\n"
      ],
      "metadata": {
        "colab": {
          "base_uri": "https://localhost:8080/"
        },
        "id": "vL59_FMqW2B9",
        "outputId": "e1a277d9-2c31-4c68-b4c5-53966616fbf8"
      },
      "execution_count": 69,
      "outputs": [
        {
          "output_type": "execute_result",
          "data": {
            "text/plain": [
              "array([[1, 2, 3]])"
            ]
          },
          "metadata": {},
          "execution_count": 69
        }
      ]
    },
    {
      "cell_type": "code",
      "source": [
        "a.reshape(3, 1)        # Column vector"
      ],
      "metadata": {
        "colab": {
          "base_uri": "https://localhost:8080/"
        },
        "id": "3bWQEL_8YZ9G",
        "outputId": "0da1783e-5e9e-40e0-dd1e-90151576f25c"
      },
      "execution_count": 70,
      "outputs": [
        {
          "output_type": "execute_result",
          "data": {
            "text/plain": [
              "array([[1],\n",
              "       [2],\n",
              "       [3]])"
            ]
          },
          "metadata": {},
          "execution_count": 70
        }
      ]
    },
    {
      "cell_type": "code",
      "source": [
        "a[np.newaxis, :]       # Shape: (1, 3)\n"
      ],
      "metadata": {
        "colab": {
          "base_uri": "https://localhost:8080/"
        },
        "id": "XnTlS-TzYdmZ",
        "outputId": "1b42c778-4dab-489f-9aff-5c83ebfe7926"
      },
      "execution_count": 71,
      "outputs": [
        {
          "output_type": "execute_result",
          "data": {
            "text/plain": [
              "array([[1, 2, 3]])"
            ]
          },
          "metadata": {},
          "execution_count": 71
        }
      ]
    },
    {
      "cell_type": "code",
      "source": [
        "a[:, np.newaxis]       # Shape: (3, 1)"
      ],
      "metadata": {
        "colab": {
          "base_uri": "https://localhost:8080/"
        },
        "id": "bm9pIMOMYhDF",
        "outputId": "c7f7c1e7-a288-4cc2-d18c-9b5534082f59"
      },
      "execution_count": 72,
      "outputs": [
        {
          "output_type": "execute_result",
          "data": {
            "text/plain": [
              "array([[1],\n",
              "       [2],\n",
              "       [3]])"
            ]
          },
          "metadata": {},
          "execution_count": 72
        }
      ]
    },
    {
      "cell_type": "code",
      "source": [
        "#OOLEAN INDEXING (FILTERING)\n",
        "#Use a condition to filter elements:\n",
        "a = np.array([10, 15, 20, 25])\n",
        "a[a > 15]      # [20, 25]"
      ],
      "metadata": {
        "colab": {
          "base_uri": "https://localhost:8080/"
        },
        "id": "fICq9nCvYhvh",
        "outputId": "0571770b-f343-4e43-8e4f-d4b539ce14ab"
      },
      "execution_count": 74,
      "outputs": [
        {
          "output_type": "execute_result",
          "data": {
            "text/plain": [
              "array([20, 25])"
            ]
          },
          "metadata": {},
          "execution_count": 74
        }
      ]
    },
    {
      "cell_type": "code",
      "source": [
        "a[a % 2 == 0]  # [10, 20]"
      ],
      "metadata": {
        "colab": {
          "base_uri": "https://localhost:8080/"
        },
        "id": "P4smG0E5ZMCl",
        "outputId": "9f1eea20-c924-45e5-d75c-20765491d886"
      },
      "execution_count": 75,
      "outputs": [
        {
          "output_type": "execute_result",
          "data": {
            "text/plain": [
              "array([10, 20])"
            ]
          },
          "metadata": {},
          "execution_count": 75
        }
      ]
    },
    {
      "cell_type": "code",
      "source": [
        "#MODIFYING WITH CONDITIONS\n",
        "a[a < 15] = 0\n",
        "print(a)  # [ 0 15 20 25]"
      ],
      "metadata": {
        "colab": {
          "base_uri": "https://localhost:8080/"
        },
        "id": "CpSPeo63ZP8o",
        "outputId": "765a8b93-2ebd-4f6d-9ad6-e667be82f83f"
      },
      "execution_count": 76,
      "outputs": [
        {
          "output_type": "stream",
          "name": "stdout",
          "text": [
            "[ 0 15 20 25]\n"
          ]
        }
      ]
    },
    {
      "cell_type": "code",
      "source": [
        "#USING np.where()\n",
        "a = np.array([10, 15, 20, 25])\n",
        "np.where(a > 15, 'High', 'Low')\n",
        "# ['Low', 'Low', 'High', 'High']"
      ],
      "metadata": {
        "colab": {
          "base_uri": "https://localhost:8080/"
        },
        "id": "DQIvKBiEZeYy",
        "outputId": "6c9dbe63-29f7-4e3d-bbae-4497cbf9b920"
      },
      "execution_count": 77,
      "outputs": [
        {
          "output_type": "execute_result",
          "data": {
            "text/plain": [
              "array(['Low', 'Low', 'High', 'High'], dtype='<U4')"
            ]
          },
          "metadata": {},
          "execution_count": 77
        }
      ]
    },
    {
      "cell_type": "code",
      "source": [
        "#np.nonzero() – Find index positions where condition is True\n",
        "a = np.array([0, 2, 0, 4, 5])\n",
        "np.nonzero(a)\n",
        "# (array([1, 3, 4]),)"
      ],
      "metadata": {
        "colab": {
          "base_uri": "https://localhost:8080/"
        },
        "id": "aAsYLaWgZ6-q",
        "outputId": "429be731-6d00-4447-ba6d-7b0fa89fa613"
      },
      "execution_count": 78,
      "outputs": [
        {
          "output_type": "execute_result",
          "data": {
            "text/plain": [
              "(array([1, 3, 4]),)"
            ]
          },
          "metadata": {},
          "execution_count": 78
        }
      ]
    },
    {
      "cell_type": "code",
      "source": [
        "#np.any() and np.all()\n",
        "a = np.array([1, 0, 3])\n",
        "np.any(a > 0)   # True"
      ],
      "metadata": {
        "colab": {
          "base_uri": "https://localhost:8080/"
        },
        "id": "C7bgfzDcajX2",
        "outputId": "cf55ef76-3c95-4d48-8531-b07fcc8c30ba"
      },
      "execution_count": 79,
      "outputs": [
        {
          "output_type": "execute_result",
          "data": {
            "text/plain": [
              "np.True_"
            ]
          },
          "metadata": {},
          "execution_count": 79
        }
      ]
    },
    {
      "cell_type": "code",
      "source": [
        "np.all(a > 0)   # False"
      ],
      "metadata": {
        "colab": {
          "base_uri": "https://localhost:8080/"
        },
        "id": "j-e1iZ6Ubhj-",
        "outputId": "62474979-b55e-4e19-9d35-f85cd80bb458"
      },
      "execution_count": 80,
      "outputs": [
        {
          "output_type": "execute_result",
          "data": {
            "text/plain": [
              "np.False_"
            ]
          },
          "metadata": {},
          "execution_count": 80
        }
      ]
    },
    {
      "cell_type": "code",
      "source": [
        "#BROADCASTING WITH MASKINGt\n",
        "arr = np.arange(9).reshape(3, 3)\n",
        "mask = arr % 2 == 0\n",
        "arr[mask] = -1\n",
        "#Replaces all even values with -1"
      ],
      "metadata": {
        "id": "XngYC1oTbiuI"
      },
      "execution_count": 81,
      "outputs": []
    },
    {
      "cell_type": "code",
      "source": [
        "#BASIC MATH OPERATIONS\n",
        "#Apply to entire arrays (vectorized):\n",
        "a = np.array([1, 2, 3])\n",
        "\n",
        "np.add(a, 1)     # [2 3 4]\n",
        "np.subtract(a, 1)  # [0 1 2]\n",
        "np.multiply(a, 2)  # [2 4 6]\n",
        "np.divide(a, 2)    # [0.5 1.  1.5]\n",
        "np.power(a, 2)     # [1 4 9]"
      ],
      "metadata": {
        "colab": {
          "base_uri": "https://localhost:8080/"
        },
        "id": "-MiMk6Qbb1Xk",
        "outputId": "14f921b0-03b0-46f6-fb6b-50505a4bafb2"
      },
      "execution_count": 82,
      "outputs": [
        {
          "output_type": "execute_result",
          "data": {
            "text/plain": [
              "array([1, 4, 9])"
            ]
          },
          "metadata": {},
          "execution_count": 82
        }
      ]
    },
    {
      "cell_type": "code",
      "source": [
        "#AGGREGATIONS\n",
        "a = np.array([[1, 2, 3], [4, 5, 6]])\n",
        "\n",
        "a.sum()           # 21\n",
        "a.mean()          # 3.5\n",
        "a.max(), a.min()\n",
        "a.std(), a.var()"
      ],
      "metadata": {
        "colab": {
          "base_uri": "https://localhost:8080/"
        },
        "id": "iExnZ4N2dOjV",
        "outputId": "0af53cda-3d99-4f79-8521-44af5e479d0a"
      },
      "execution_count": 83,
      "outputs": [
        {
          "output_type": "execute_result",
          "data": {
            "text/plain": [
              "(np.float64(1.707825127659933), np.float64(2.9166666666666665))"
            ]
          },
          "metadata": {},
          "execution_count": 83
        }
      ]
    },
    {
      "cell_type": "code",
      "source": [
        "#Aggregation by Axis\n",
        "a.sum(axis=0)     # column-wise → [5, 7, 9]\n",
        "a.sum(axis=1)     # row-wise    → [6, 15]"
      ],
      "metadata": {
        "colab": {
          "base_uri": "https://localhost:8080/"
        },
        "id": "xlmZcw3ydyTf",
        "outputId": "3d2faa98-2983-4366-fdb0-85114a346227"
      },
      "execution_count": 84,
      "outputs": [
        {
          "output_type": "execute_result",
          "data": {
            "text/plain": [
              "array([ 6, 15])"
            ]
          },
          "metadata": {},
          "execution_count": 84
        }
      ]
    },
    {
      "cell_type": "code",
      "source": [
        "#CUMULATIVE FUNCTIONS                             # search\n",
        "a = np.array([1, 2, 3, 4])\n",
        "\n",
        "np.cumsum(a)      # [1 3 6 10]\n",
        "np.cumprod(a)     # [1 2 6 24]"
      ],
      "metadata": {
        "id": "VgnOKIAAeAqu"
      },
      "execution_count": null,
      "outputs": []
    },
    {
      "cell_type": "code",
      "source": [
        "#NUMPY MATH FUNCTIONS\n",
        "x = np.array([0, np.pi/2, np.pi])\n",
        "\n",
        "np.sin(x)         # [0, 1, 0]\n",
        "np.cos(x)\n",
        "np.tan(x)\n",
        "np.exp(x)         # e^x\n",
        "np.log(x + 1)     # log(x + 1) to avoid log(0)\n",
        "np.sqrt(x)"
      ],
      "metadata": {
        "colab": {
          "base_uri": "https://localhost:8080/"
        },
        "id": "dWFiEZ_Kee7z",
        "outputId": "eff3f9ee-0963-44ab-98ff-623343b86f91"
      },
      "execution_count": 85,
      "outputs": [
        {
          "output_type": "execute_result",
          "data": {
            "text/plain": [
              "array([0.        , 1.25331414, 1.77245385])"
            ]
          },
          "metadata": {},
          "execution_count": 85
        }
      ]
    },
    {
      "cell_type": "code",
      "source": [
        "#RANDOM NUMBERS (numpy.random)\n",
        "#✅ Generate random arrays:\n",
        "np.random.rand(2, 3)      # uniform dist [0,1)"
      ],
      "metadata": {
        "colab": {
          "base_uri": "https://localhost:8080/"
        },
        "id": "S2O6FlnmeevL",
        "outputId": "e18ca603-d2ed-48d8-f969-00046d170554"
      },
      "execution_count": 87,
      "outputs": [
        {
          "output_type": "execute_result",
          "data": {
            "text/plain": [
              "array([[0.07343282, 0.61025554, 0.50084622],\n",
              "       [0.67044857, 0.26145796, 0.21836167]])"
            ]
          },
          "metadata": {},
          "execution_count": 87
        }
      ]
    },
    {
      "cell_type": "code",
      "source": [
        "np.random.randn(3)        # standard normal dist"
      ],
      "metadata": {
        "colab": {
          "base_uri": "https://localhost:8080/"
        },
        "id": "AT6hJXd9eeq-",
        "outputId": "d0496505-ba93-4037-e149-4265bbb4ff47"
      },
      "execution_count": 88,
      "outputs": [
        {
          "output_type": "execute_result",
          "data": {
            "text/plain": [
              "array([ 0.03591312, -0.83736361,  0.82507189])"
            ]
          },
          "metadata": {},
          "execution_count": 88
        }
      ]
    },
    {
      "cell_type": "code",
      "source": [
        "np.random.randint(1, 10, size=(2, 3))  # integers"
      ],
      "metadata": {
        "colab": {
          "base_uri": "https://localhost:8080/"
        },
        "id": "gzcajoqueeoq",
        "outputId": "6db731db-b428-443e-f143-f808120acc66"
      },
      "execution_count": 91,
      "outputs": [
        {
          "output_type": "execute_result",
          "data": {
            "text/plain": [
              "array([[6, 9, 7],\n",
              "       [1, 8, 2]])"
            ]
          },
          "metadata": {},
          "execution_count": 91
        }
      ]
    },
    {
      "cell_type": "code",
      "source": [
        "#Random choice\n",
        "np.random.choice([1, 2, 3], size=5)"
      ],
      "metadata": {
        "colab": {
          "base_uri": "https://localhost:8080/"
        },
        "id": "1D40l3BDg4SL",
        "outputId": "4a02bb3d-e55d-4fd0-f938-52d52e36f3dd"
      },
      "execution_count": 94,
      "outputs": [
        {
          "output_type": "execute_result",
          "data": {
            "text/plain": [
              "array([1, 2, 1, 3, 1])"
            ]
          },
          "metadata": {},
          "execution_count": 94
        }
      ]
    },
    {
      "cell_type": "code",
      "source": [
        "#Seeding (for reproducibility)\n",
        "np.random.seed(42)\n",
        "np.random.rand(3)   # Always same output if seed is fixed"
      ],
      "metadata": {
        "colab": {
          "base_uri": "https://localhost:8080/"
        },
        "id": "JQuEUuSkhRkP",
        "outputId": "45179a5a-5a39-4e55-d7b2-2ec200632f96"
      },
      "execution_count": 99,
      "outputs": [
        {
          "output_type": "execute_result",
          "data": {
            "text/plain": [
              "array([0.37454012, 0.95071431, 0.73199394])"
            ]
          },
          "metadata": {},
          "execution_count": 99
        }
      ]
    },
    {
      "cell_type": "code",
      "source": [
        "#SHUFFLING & PERMUTATION\n",
        "arr = np.arange(10)\n",
        "np.random.shuffle(arr)     # In-place\n",
        "np.random.permutation(arr) # Returns new shuffled array"
      ],
      "metadata": {
        "colab": {
          "base_uri": "https://localhost:8080/"
        },
        "id": "3RnHAb55hkKK",
        "outputId": "dcbf6c3b-1114-4693-9e63-629486317ab6"
      },
      "execution_count": 102,
      "outputs": [
        {
          "output_type": "execute_result",
          "data": {
            "text/plain": [
              "array([2, 4, 7, 3, 8, 5, 9, 1, 0, 6])"
            ]
          },
          "metadata": {},
          "execution_count": 102
        }
      ]
    },
    {
      "cell_type": "code",
      "source": [
        "#MATRIX MULTIPLICATION\n",
        "#✅ Dot Product (1D and 2D)\n",
        "a = np.array([1, 2])\n",
        "b = np.array([3, 4])\n",
        "np.dot(a, b)"
      ],
      "metadata": {
        "colab": {
          "base_uri": "https://localhost:8080/"
        },
        "id": "yGD97dxOiXgT",
        "outputId": "87a7cbe9-73eb-49f4-9abc-bdc696aca79a"
      },
      "execution_count": 103,
      "outputs": [
        {
          "output_type": "execute_result",
          "data": {
            "text/plain": [
              "np.int64(11)"
            ]
          },
          "metadata": {},
          "execution_count": 103
        }
      ]
    },
    {
      "cell_type": "code",
      "source": [
        "#Matrix Multiplication (2D arrays)\n",
        "A = np.array([[1, 2], [3, 4]])\n",
        "B = np.array([[5, 6], [7, 8]])\n",
        "np.dot(A, B)        # or A @ B"
      ],
      "metadata": {
        "colab": {
          "base_uri": "https://localhost:8080/"
        },
        "id": "xnza1Ghgizit",
        "outputId": "62909cea-5adb-442d-bb99-be535f679c17"
      },
      "execution_count": 104,
      "outputs": [
        {
          "output_type": "execute_result",
          "data": {
            "text/plain": [
              "array([[19, 22],\n",
              "       [43, 50]])"
            ]
          },
          "metadata": {},
          "execution_count": 104
        }
      ]
    },
    {
      "cell_type": "code",
      "source": [
        "#IDENTITY MATRIX\n",
        "np.eye(3)"
      ],
      "metadata": {
        "colab": {
          "base_uri": "https://localhost:8080/"
        },
        "id": "eOjaf-qpjHoY",
        "outputId": "0ded6bcd-c0e8-40c1-959c-d0d9c2d2c5f7"
      },
      "execution_count": 105,
      "outputs": [
        {
          "output_type": "execute_result",
          "data": {
            "text/plain": [
              "array([[1., 0., 0.],\n",
              "       [0., 1., 0.],\n",
              "       [0., 0., 1.]])"
            ]
          },
          "metadata": {},
          "execution_count": 105
        }
      ]
    },
    {
      "cell_type": "code",
      "source": [
        "#TRANSPOSE\n",
        "A.T"
      ],
      "metadata": {
        "colab": {
          "base_uri": "https://localhost:8080/"
        },
        "id": "LTmqyvNrjS-U",
        "outputId": "f52cd303-a0c3-4e8b-cff4-297fba088caa"
      },
      "execution_count": 106,
      "outputs": [
        {
          "output_type": "execute_result",
          "data": {
            "text/plain": [
              "array([[1, 3],\n",
              "       [2, 4]])"
            ]
          },
          "metadata": {},
          "execution_count": 106
        }
      ]
    },
    {
      "cell_type": "code",
      "source": [
        "#INVERSE OF A MATRIX\n",
        "np.linalg.inv(A)"
      ],
      "metadata": {
        "colab": {
          "base_uri": "https://localhost:8080/"
        },
        "id": "wnbfqJ2GjbKH",
        "outputId": "b229be06-04e2-46c3-b264-28790f9bdc5d"
      },
      "execution_count": 108,
      "outputs": [
        {
          "output_type": "execute_result",
          "data": {
            "text/plain": [
              "array([[-2. ,  1. ],\n",
              "       [ 1.5, -0.5]])"
            ]
          },
          "metadata": {},
          "execution_count": 108
        }
      ]
    },
    {
      "cell_type": "code",
      "source": [
        "#DETERMINANT\n",
        "np.linalg.det(A)"
      ],
      "metadata": {
        "colab": {
          "base_uri": "https://localhost:8080/"
        },
        "id": "YzatdB4-joS5",
        "outputId": "8705eaa5-3945-462f-d100-4e01b46cabdd"
      },
      "execution_count": 109,
      "outputs": [
        {
          "output_type": "execute_result",
          "data": {
            "text/plain": [
              "np.float64(-2.0000000000000004)"
            ]
          },
          "metadata": {},
          "execution_count": 109
        }
      ]
    },
    {
      "cell_type": "code",
      "source": [
        "#SOLVING LINEAR EQUATIONS\n",
        "#Solve Ax = b for x\n",
        "A = np.array([[2, 1], [1, 3]])\n",
        "b = np.array([8, 13])\n",
        "x = np.linalg.solve(A, b)"
      ],
      "metadata": {
        "id": "4dsg3D4skA1h"
      },
      "execution_count": 110,
      "outputs": []
    },
    {
      "cell_type": "code",
      "source": [
        "x"
      ],
      "metadata": {
        "colab": {
          "base_uri": "https://localhost:8080/"
        },
        "id": "JVZZqfyEkQUJ",
        "outputId": "062ac694-d9ec-4e7b-fa70-c8f863883703"
      },
      "execution_count": 111,
      "outputs": [
        {
          "output_type": "execute_result",
          "data": {
            "text/plain": [
              "array([2.2, 3.6])"
            ]
          },
          "metadata": {},
          "execution_count": 111
        }
      ]
    },
    {
      "cell_type": "code",
      "source": [
        "#EIGENVALUES & EIGENVECTORS\n",
        "vals, vecs = np.linalg.eig(A)"
      ],
      "metadata": {
        "id": "SppE_y8skS8M"
      },
      "execution_count": 112,
      "outputs": []
    },
    {
      "cell_type": "code",
      "source": [
        "vals"
      ],
      "metadata": {
        "colab": {
          "base_uri": "https://localhost:8080/"
        },
        "id": "_QYlzRC7kn2w",
        "outputId": "0e563be9-9eb5-4c3b-f1cb-f4cf945ce88a"
      },
      "execution_count": 113,
      "outputs": [
        {
          "output_type": "execute_result",
          "data": {
            "text/plain": [
              "array([1.38196601, 3.61803399])"
            ]
          },
          "metadata": {},
          "execution_count": 113
        }
      ]
    },
    {
      "cell_type": "code",
      "source": [
        "print(vecs)"
      ],
      "metadata": {
        "colab": {
          "base_uri": "https://localhost:8080/"
        },
        "id": "hU-YOq8ZkpKS",
        "outputId": "3fe17d85-d0a2-4e59-fbe4-f1e3ce896d22"
      },
      "execution_count": 116,
      "outputs": [
        {
          "output_type": "stream",
          "name": "stdout",
          "text": [
            "[[-0.85065081 -0.52573111]\n",
            " [ 0.52573111 -0.85065081]]\n"
          ]
        }
      ]
    },
    {
      "cell_type": "code",
      "source": [
        "import matplotlib.pyplot as plt\n",
        "\n",
        "categories = ['A', 'B', 'C']\n",
        "values = [10, 20, 15]\n",
        "\n",
        "plt.bar(categories, values, width = 0.5)\n",
        "plt.title(\"Bar Chart\")\n",
        "plt.xlabel(\"Category\")\n",
        "plt.ylabel(\"Value\")\n",
        "plt.show()"
      ],
      "metadata": {
        "colab": {
          "base_uri": "https://localhost:8080/",
          "height": 472
        },
        "id": "TNoaHEn9krFZ",
        "outputId": "b1734194-3372-477d-988b-59209662392a"
      },
      "execution_count": 5,
      "outputs": [
        {
          "output_type": "display_data",
          "data": {
            "text/plain": [
              "<Figure size 640x480 with 1 Axes>"
            ],
            "image/png": "[encoded data removed]"
          },
          "metadata": {}
        }
      ]
    },
    {
      "cell_type": "code",
      "source": [
        "labels = ['Python', 'Java', 'C++']\n",
        "sizes = [45, 30, 25]\n",
        "\n",
        "plt.pie(sizes, labels=labels, autopct='%1.1f%%')\n",
        "plt.title(\"Language Popularity\")\n",
        "plt.show()"
      ],
      "metadata": {
        "colab": {
          "base_uri": "https://localhost:8080/",
          "height": 428
        },
        "id": "1Po27fQRneUW",
        "outputId": "841d95ea-bfa9-4a07-d969-8c91c047a456"
      },
      "execution_count": 7,
      "outputs": [
        {
          "output_type": "display_data",
          "data": {
            "text/plain": [
              "<Figure size 640x480 with 1 Axes>"
            ],
            "image/png": "[encoded data removed]"
          },
          "metadata": {}
        }
      ]
    },
    {
      "cell_type": "code",
      "source": [
        "explode = [0.1, 0, 0]\n",
        "plt.pie(sizes, labels=labels, explode=explode, autopct='%1.1f%%')"
      ],
      "metadata": {
        "colab": {
          "base_uri": "https://localhost:8080/",
          "height": 572
        },
        "id": "Z2WhayVFpuYN",
        "outputId": "a014059f-37e6-4f57-ec03-3e67d46be9ec"
      },
      "execution_count": 8,
      "outputs": [
        {
          "output_type": "execute_result",
          "data": {
            "text/plain": [
              "([<matplotlib.patches.Wedge at 0x797355855910>,\n",
              "  <matplotlib.patches.Wedge at 0x797355857110>,\n",
              "  <matplotlib.patches.Wedge at 0x7973558459d0>],\n",
              " [Text(0.18772138206616357, 1.1852260049101055, 'Python'),\n",
              "  Text(-0.8899184718302892, -0.6465640830538323, 'Java'),\n",
              "  Text(0.7778177173879477, -0.7778172012223713, 'C++')],\n",
              " [Text(0.1095041395385954, 0.6913818361975614, '45.0%'),\n",
              "  Text(-0.485410075543794, -0.352671318029363, '30.0%'),\n",
              "  Text(0.4242642094843351, -0.42426392793947526, '25.0%')])"
            ]
          },
          "metadata": {},
          "execution_count": 8
        },
        {
          "output_type": "display_data",
          "data": {
            "text/plain": [
              "<Figure size 640x480 with 1 Axes>"
            ],
            "image/png": "[encoded data removed]"
          },
          "metadata": {}
        }
      ]
    },
    {
      "cell_type": "code",
      "source": [
        "data = [22, 23, 24, 25, 26, 27, 28, 29, 30, 30, 30, 31, 32, 35]\n",
        "\n",
        "plt.hist(data, bins=5, color='purple', edgecolor='black')\n",
        "plt.title(\"Age Distribution\")\n",
        "plt.xlabel(\"Age\")\n",
        "plt.ylabel(\"Frequency\")\n",
        "plt.show()"
      ],
      "metadata": {
        "colab": {
          "base_uri": "https://localhost:8080/",
          "height": 472
        },
        "id": "8rVOb0QbrB64",
        "outputId": "eaf46824-8bd2-4777-96ad-62bd269e26b5"
      },
      "execution_count": 9,
      "outputs": [
        {
          "output_type": "display_data",
          "data": {
            "text/plain": [
              "<Figure size 640x480 with 1 Axes>"
            ],
            "image/png": "[encoded data removed]"
          },
          "metadata": {}
        }
      ]
    },
    {
      "cell_type": "code",
      "source": [
        "import matplotlib.pyplot as plt\n",
        "\n",
        "x = [1, 2, 3, 4, 5]\n",
        "y = [5, 7, 6, 8, 7]\n",
        "\n",
        "plt.scatter(x, y, color='red')\n",
        "plt.title(\"Study Hours vs Score\")\n",
        "plt.xlabel(\"Study Hours\")\n",
        "plt.ylabel(\"Test Score\")\n",
        "plt.grid(True)\n",
        "plt.show()"
      ],
      "metadata": {
        "colab": {
          "base_uri": "https://localhost:8080/",
          "height": 472
        },
        "id": "RQqowP3-sIGw",
        "outputId": "34eb8ed8-ffe6-42e8-e5f3-cbe812af1613"
      },
      "execution_count": 11,
      "outputs": [
        {
          "output_type": "display_data",
          "data": {
            "text/plain": [
              "<Figure size 640x480 with 1 Axes>"
            ],
            "image/png": "[encoded data removed]"
          },
          "metadata": {}
        }
      ]
    },
    {
      "cell_type": "code",
      "source": [
        "sizes = [20, 40, 60, 80, 1000]\n",
        "colors = ['blue', 'green', 'red', 'purple', 'orange']\n",
        "\n",
        "plt.scatter(x, y, s=sizes, c=colors)"
      ],
      "metadata": {
        "colab": {
          "base_uri": "https://localhost:8080/",
          "height": 448
        },
        "id": "wuA7SIKVuEoy",
        "outputId": "3ad5da03-d964-4584-f0bf-4f6d3f0a21cb"
      },
      "execution_count": 13,
      "outputs": [
        {
          "output_type": "execute_result",
          "data": {
            "text/plain": [
              "<matplotlib.collections.PathCollection at 0x797355773610>"
            ]
          },
          "metadata": {},
          "execution_count": 13
        },
        {
          "output_type": "display_data",
          "data": {
            "text/plain": [
              "<Figure size 640x480 with 1 Axes>"
            ],
            "image/png": "[encoded data removed]"
          },
          "metadata": {}
        }
      ]
    },
    {
      "cell_type": "code",
      "source": [
        "plt.subplot(1, 2, 1)\n",
        "plt.plot([1, 2, 3], [2, 4, 1])\n",
        "plt.title(\"Line Plot\")\n",
        "\n",
        "plt.subplot(1, 2, 2)\n",
        "plt.bar([1, 2, 3], [3, 2, 5])\n",
        "plt.title(\"Bar Chart\")\n",
        "\n",
        "plt.tight_layout()\n",
        "plt.show()"
      ],
      "metadata": {
        "colab": {
          "base_uri": "https://localhost:8080/",
          "height": 487
        },
        "id": "6FmA6J7Iufzb",
        "outputId": "29830a57-51d1-4b60-a453-93f94e255cf7"
      },
      "execution_count": 15,
      "outputs": [
        {
          "output_type": "display_data",
          "data": {
            "text/plain": [
              "<Figure size 640x480 with 2 Axes>"
            ],
            "image/png": "[encoded data removed]"
          },
          "metadata": {}
        }
      ]
    },
    {
      "cell_type": "code",
      "source": [
        "fig, axes = plt.subplots(2, 2, figsize=(8, 6))\n",
        "\n",
        "axes[0, 0].plot([1, 2], [1, 4])\n",
        "axes[0, 1].bar([1, 2], [2, 5])\n",
        "axes[1, 0].hist([2, 2, 3])\n",
        "axes[1, 1].scatter([1, 2], [4, 5])\n",
        "\n",
        "fig.suptitle(\"Multiple Visuals\")\n",
        "plt.tight_layout()\n",
        "plt.show()"
      ],
      "metadata": {
        "colab": {
          "base_uri": "https://localhost:8080/",
          "height": 610
        },
        "id": "DjmqYEACvjz1",
        "outputId": "df2701dc-8cca-4e1c-b8e7-a324e2e18353"
      },
      "execution_count": 16,
      "outputs": [
        {
          "output_type": "display_data",
          "data": {
            "text/plain": [
              "<Figure size 800x600 with 4 Axes>"
            ],
            "image/png": "[encoded data removed]"
          },
          "metadata": {}
        }
      ]
    },
    {
      "cell_type": "code",
      "source": [
        "fig, axes = plt.subplots(2, 2, figsize=(8, 6))\n",
        "\n",
        "axes[0, 0].plot([1, 2], [1, 4])\n",
        "axes[0, 1].bar([1, 2], [2, 5])\n",
        "axes[1, 0].hist([2, 2, 3])\n",
        "axes[1, 1].scatter([1, 2], [4, 5])\n",
        "\n",
        "fig.suptitle(\"Multiple Visuals\")\n",
        "plt.tight_layout()\n",
        "plt.show()"
      ],
      "metadata": {
        "colab": {
          "base_uri": "https://localhost:8080/",
          "height": 610
        },
        "id": "vR614DUZxVU0",
        "outputId": "a0c7ed48-c3f7-4f1d-85e2-be73e16ef7f5"
      },
      "execution_count": 17,
      "outputs": [
        {
          "output_type": "display_data",
          "data": {
            "text/plain": [
              "<Figure size 800x600 with 4 Axes>"
            ],
            "image/png": "[encoded data removed]"
          },
          "metadata": {}
        }
      ]
    },
    {
      "cell_type": "code",
      "source": [],
      "metadata": {
        "id": "3yK2-37Xxn6L"
      },
      "execution_count": null,
      "outputs": []
    },
    {
      "cell_type": "code",
      "source": [
        "plt.grid(True)                        # Add grid\n",
        "plt.xlim(0, 6)                        # X-axis limits\n",
        "plt.ylim(4, 9)                        # Y-axis limits\n",
        "plt.style.use('ggplot')              # Use a style\n"
      ],
      "metadata": {
        "colab": {
          "base_uri": "https://localhost:8080/",
          "height": 435
        },
        "id": "bx8mXj_0xn_u",
        "outputId": "fd194ea0-85b8-4577-a3b2-f93e4d238aa4"
      },
      "execution_count": 18,
      "outputs": [
        {
          "output_type": "display_data",
          "data": {
            "text/plain": [
              "<Figure size 640x480 with 1 Axes>"
            ],
            "image/png": "[encoded data removed]"
          },
          "metadata": {}
        }
      ]
    },
    {
      "cell_type": "code",
      "source": [
        "plt.plot(x, y)\n",
        "plt.annotate(\"Peak\", xy=(4, 8), xytext=(3.5, 8.5),\n",
        "             arrowprops=dict(facecolor='black', arrowstyle='->'))\n",
        "plt.text(1, 6, \"Start point\", fontsize=9, color='blue')\n",
        "plt.show()\n"
      ],
      "metadata": {
        "colab": {
          "base_uri": "https://localhost:8080/",
          "height": 480
        },
        "id": "oT8Gwwn0xoCt",
        "outputId": "52da458c-05e2-4842-c4a1-8378ee50e4fe"
      },
      "execution_count": 19,
      "outputs": [
        {
          "output_type": "display_data",
          "data": {
            "text/plain": [
              "<Figure size 640x480 with 1 Axes>"
            ],
            "image/png": "[encoded data removed]"
          },
          "metadata": {}
        }
      ]
    },
    {
      "cell_type": "code",
      "source": [
        "import pandas as pd\n",
        "import matplotlib.pyplot as plt\n",
        "\n",
        "df = pd.DataFrame({\n",
        "    'Month': ['Jan', 'Feb', 'Mar', 'Apr'],\n",
        "    'Sales': [100, 120, 90, 140]\n",
        "})\n",
        "\n",
        "df.plot(x='Month', y='Sales', kind='line')\n",
        "plt.title(\"Monthly Sales\")\n",
        "plt.show()\n"
      ],
      "metadata": {
        "colab": {
          "base_uri": "https://localhost:8080/",
          "height": 477
        },
        "id": "azkqwA-XxoGB",
        "outputId": "9a7adefc-bbf7-4c2f-99d6-452f6a4f6cbb"
      },
      "execution_count": 20,
      "outputs": [
        {
          "output_type": "display_data",
          "data": {
            "text/plain": [
              "<Figure size 640x480 with 1 Axes>"
            ],
            "image/png": "[encoded data removed]"
          },
          "metadata": {}
        }
      ]
    },
    {
      "cell_type": "code",
      "source": [
        "df = pd.DataFrame({\n",
        "    'Month': ['Jan', 'Feb', 'Mar', 'Apr'],\n",
        "    'Product A': [100, 120, 90, 140],\n",
        "    'Product B': [80, 100, 70, 120]\n",
        "})\n",
        "\n",
        "df.plot(x='Month', kind='line')\n"
      ],
      "metadata": {
        "colab": {
          "base_uri": "https://localhost:8080/",
          "height": 471
        },
        "id": "XsToTX_IxoI1",
        "outputId": "bc3e4923-6804-4c00-e423-e69882779f91"
      },
      "execution_count": 21,
      "outputs": [
        {
          "output_type": "execute_result",
          "data": {
            "text/plain": [
              "<Axes: xlabel='Month'>"
            ]
          },
          "metadata": {},
          "execution_count": 21
        },
        {
          "output_type": "display_data",
          "data": {
            "text/plain": [
              "<Figure size 640x480 with 1 Axes>"
            ],
            "image/png": "[encoded data removed]"
          },
          "metadata": {}
        }
      ]
    },
    {
      "cell_type": "code",
      "source": [
        "df = pd.DataFrame({\n",
        "    'Department': ['IT', 'HR', 'IT', 'HR', 'Finance'],\n",
        "    'Salary': [70000, 50000, 72000, 51000, 80000]\n",
        "})\n",
        "\n",
        "df.groupby('Department')['Salary'].mean().plot(kind='bar', color='teal')\n",
        "plt.ylabel(\"Average Salary\")\n",
        "plt.title(\"Salary by Department\")\n",
        "plt.show()\n"
      ],
      "metadata": {
        "colab": {
          "base_uri": "https://localhost:8080/",
          "height": 516
        },
        "id": "M5HMOemDxoRk",
        "outputId": "b6d87f33-d4d2-4c42-dc04-cf1a6214bbf7"
      },
      "execution_count": 27,
      "outputs": [
        {
          "output_type": "display_data",
          "data": {
            "text/plain": [
              "<Figure size 640x480 with 1 Axes>"
            ],
            "image/png": "[encoded data removed]"
          },
          "metadata": {}
        }
      ]
    },
    {
      "cell_type": "code",
      "source": [
        "df = pd.DataFrame({\n",
        "    'Language': ['Python', 'Java', 'C++', 'R'],\n",
        "    'Share': [40, 25, 20, 15]\n",
        "})\n",
        "\n",
        "df.set_index('Language').plot.pie(y='Share', autopct='%1.1f%%')\n",
        "plt.ylabel(\"\")\n",
        "plt.title(\"Language Popularity\")\n",
        "plt.show()\n"
      ],
      "metadata": {
        "colab": {
          "base_uri": "https://localhost:8080/",
          "height": 429
        },
        "id": "mynvdCEGxobc",
        "outputId": "a4485e89-12ee-472d-c2be-623b0f221313"
      },
      "execution_count": 23,
      "outputs": [
        {
          "output_type": "display_data",
          "data": {
            "text/plain": [
              "<Figure size 640x480 with 1 Axes>"
            ],
            "image/png": "[encoded data removed]"
          },
          "metadata": {}
        }
      ]
    },
    {
      "cell_type": "code",
      "source": [
        "\n",
        "df['Salary'].plot(kind='hist', bins=5)\n",
        "df[['Salary']].plot(kind='box')\n"
      ],
      "metadata": {
        "colab": {
          "base_uri": "https://localhost:8080/",
          "height": 861
        },
        "id": "_u_uHRIpxoeS",
        "outputId": "d5a20d59-fb57-4c16-d74c-acfcfbdbfb9f"
      },
      "execution_count": 31,
      "outputs": [
        {
          "output_type": "execute_result",
          "data": {
            "text/plain": [
              "<Axes: >"
            ]
          },
          "metadata": {},
          "execution_count": 31
        },
        {
          "output_type": "display_data",
          "data": {
            "text/plain": [
              "<Figure size 640x480 with 1 Axes>"
            ],
            "image/png": "[encoded data removed]"
          },
          "metadata": {}
        },
        {
          "output_type": "display_data",
          "data": {
            "text/plain": [
              "<Figure size 640x480 with 1 Axes>"
            ],
            "image/png": "[encoded data removed]"
          },
          "metadata": {}
        }
      ]
    },
    {
      "cell_type": "code",
      "source": [
        "plt.grid(True)                        # Add grid\n",
        "plt.xlim(0, 6)                        # X-axis limits\n",
        "plt.ylim(4, 9)                        # Y-axis limits\n",
        "plt.style.use('ggplot')"
      ],
      "metadata": {
        "colab": {
          "base_uri": "https://localhost:8080/",
          "height": 435
        },
        "id": "2J__TjN62Abr",
        "outputId": "5aa44899-7abb-4941-de17-c8ac3e10a72e"
      },
      "execution_count": 37,
      "outputs": [
        {
          "output_type": "display_data",
          "data": {
            "text/plain": [
              "<Figure size 640x480 with 1 Axes>"
            ],
            "image/png": "[encoded data removed]"
          },
          "metadata": {}
        }
      ]
    },
    {
      "cell_type": "code",
      "source": [],
      "metadata": {
        "id": "1OZd4BeW5mNa"
      },
      "execution_count": null,
      "outputs": []
    }
  ]
}